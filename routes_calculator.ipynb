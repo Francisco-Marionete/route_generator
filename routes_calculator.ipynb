{
 "cells": [
  {
   "cell_type": "code",
   "execution_count": 88,
   "metadata": {},
   "outputs": [],
   "source": [
    "import pandas as pd\n",
    "import numpy as np\n",
    "from py2neo import Graph\n",
    "import py2neo\n",
    "import datetime as dt\n",
    "from datetime import datetime\n",
    "pd.set_option('display.max_columns', None)"
   ]
  },
  {
   "cell_type": "code",
   "execution_count": 85,
   "metadata": {},
   "outputs": [],
   "source": [
    "graph = Graph(\"bolt://localhost:7687\", auth=(\"neo4j\", \"test\"))"
   ]
  },
  {
   "cell_type": "code",
   "execution_count": 3,
   "metadata": {},
   "outputs": [],
   "source": [
    "# graph.run(\"CREATE CONSTRAINT UniqueAirportIdConstraint ON (a:Airport) ASSERT a.id IS UNIQUE\").data()\n",
    "# graph.run(\"CREATE CONSTRAINT UniqueCityIdConstraint ON (c:City) ASSERT c.id IS UNIQUE\").data()\n",
    "# graph.run(\"CREATE CONSTRAINT UniqueFlightIdConstraint ON (f:Flight) ASSERT f.id IS UNIQUE\").data()\n",
    "# graph.run(\"CREATE CONSTRAINT UniqueAirlineIdConstraint ON (al:Airline) ASSERT al.id IS UNIQUE\").data()\n",
    "# graph.run(\"CREATE CONSTRAINT UniqueStateIdConstraint ON (s:State) ASSERT s.id IS UNIQUE\").data()"
   ]
  },
  {
   "cell_type": "code",
   "execution_count": 4,
   "metadata": {},
   "outputs": [
    {
     "data": {
      "text/plain": [
       "[{'name': 'UniqueAirlineIdConstraint',\n",
       "  'description': 'CONSTRAINT ON ( airline:Airline ) ASSERT (airline.id) IS UNIQUE',\n",
       "  'details': \"Constraint( id=8, name='UniqueAirlineIdConstraint', type='UNIQUENESS', schema=(:Airline {id}), ownedIndex=7 )\"},\n",
       " {'name': 'UniqueAirportIdConstraint',\n",
       "  'description': 'CONSTRAINT ON ( airport:Airport ) ASSERT (airport.id) IS UNIQUE',\n",
       "  'details': \"Constraint( id=2, name='UniqueAirportIdConstraint', type='UNIQUENESS', schema=(:Airport {id}), ownedIndex=1 )\"},\n",
       " {'name': 'UniqueCityIdConstraint',\n",
       "  'description': 'CONSTRAINT ON ( city:City ) ASSERT (city.id) IS UNIQUE',\n",
       "  'details': \"Constraint( id=4, name='UniqueCityIdConstraint', type='UNIQUENESS', schema=(:City {id}), ownedIndex=3 )\"},\n",
       " {'name': 'UniqueFlightIdConstraint',\n",
       "  'description': 'CONSTRAINT ON ( flight:Flight ) ASSERT (flight.id) IS UNIQUE',\n",
       "  'details': \"Constraint( id=6, name='UniqueFlightIdConstraint', type='UNIQUENESS', schema=(:Flight {id}), ownedIndex=5 )\"},\n",
       " {'name': 'UniqueStateIdConstraint',\n",
       "  'description': 'CONSTRAINT ON ( state:State ) ASSERT (state.id) IS UNIQUE',\n",
       "  'details': \"Constraint( id=10, name='UniqueStateIdConstraint', type='UNIQUENESS', schema=(:State {id}), ownedIndex=9 )\"}]"
      ]
     },
     "execution_count": 4,
     "metadata": {},
     "output_type": "execute_result"
    }
   ],
   "source": [
    "graph.run(\"CALL db.constraints()\").data()"
   ]
  },
  {
   "cell_type": "code",
   "execution_count": 65,
   "metadata": {},
   "outputs": [
    {
     "data": {
      "text/plain": [
       "[{'count(n)': 0}]"
      ]
     },
     "execution_count": 65,
     "metadata": {},
     "output_type": "execute_result"
    }
   ],
   "source": [
    "graph.run(\"match (n) return count(n)\").data()"
   ]
  },
  {
   "cell_type": "code",
   "execution_count": 66,
   "metadata": {},
   "outputs": [
    {
     "name": "stdout",
     "output_type": "stream",
     "text": [
      "17:15:36\tStarted\n",
      "Flights created: [{'count(f)': 313382}]\n",
      "17:16:01\tFinished\n"
     ]
    }
   ],
   "source": [
    "\"\"\"\n",
    "Generate flights nodes with timestamps\n",
    "\"\"\"\n",
    "\n",
    "print(datetime.now().strftime(\"%H:%M:%S\") + '\\tStarted')\n",
    "\n",
    "graph.run('''\n",
    "\n",
    "    USING PERIODIC COMMIT 500000\n",
    "    LOAD CSV WITH HEADERS FROM 'file:///2020_4_id.csv' AS row\n",
    "    WITH row LIMIT 200000000000000\n",
    "    MERGE (f:Flight {id:toInteger(row.flight_id)})\n",
    "        ON CREATE SET\n",
    "              f.plane = row.plane,\n",
    "              f.airline = row.airline,\n",
    "              f.flight = row.flight,\n",
    "              f.origin_airport = toInteger(row.origin_airport),\n",
    "              f.origin_city = toInteger(row.origin_city),\n",
    "              f.origin_state = toInteger(row.origin_state),\n",
    "              f.destination_airport = toInteger(row.destination_airport),\n",
    "              f.destination_city = toInteger(row.destination_city),\n",
    "              f.destination_state = toInteger(row.destination_state),\n",
    "              f.cancelled = row.cancelled,\n",
    "              f.cancel_code = row.cancel_code,\n",
    "              f.number_flights = row.number_flights,\n",
    "              f.distance = toInteger(row.distance),\n",
    "              f.scheduled_travel_time = toInteger(row.scheduled_travel_time),\n",
    "              f.year = toInteger(row.year),\n",
    "              f.month = toInteger(row.month),\n",
    "              f.day = toInteger(row.day),\n",
    "              f.departure_scheduled_hour = toInteger(row.departure_scheduled_hour),\n",
    "              f.departure_scheduled_minute = toInteger(row.departure_scheduled_minute),\n",
    "              f.arrival_scheduled_hour = toInteger(row.arrival_scheduled_hour),\n",
    "              f.arrival_scheduled_minute = toInteger(row.arrival_scheduled_minute),\n",
    "              f.departure_timestamp = datetime({year:f.year,month:f.month, day:f.day, hour:f.departure_scheduled_hour, minute:f.departure_scheduled_minute}),\n",
    "              f.arrival_timestamp = datetime({year:f.year,month:f.month, day:f.day, hour:f.arrival_scheduled_hour, minute:f.arrival_scheduled_minute})\n",
    "              '''                 \n",
    "    )\n",
    "\n",
    "print(f'Flights created: {graph.run(\"match (f:Flight) return count(f)\").data()}')\n",
    "\n",
    "\n",
    "print(datetime.now().strftime(\"%H:%M:%S\") + '\\tFinished')"
   ]
  },
  {
   "cell_type": "code",
   "execution_count": 67,
   "metadata": {},
   "outputs": [
    {
     "name": "stdout",
     "output_type": "stream",
     "text": [
      "17:16:01\tStarted\n",
      "Airports created: [{'count(a)': 6545}]\n",
      "17:16:01\tFinished\n"
     ]
    }
   ],
   "source": [
    "\"\"\"\n",
    "Generate airports nodes\n",
    "\"\"\"\n",
    "\n",
    "print(datetime.now().strftime(\"%H:%M:%S\") + '\\tStarted')\n",
    "\n",
    "graph.run('''\n",
    "\n",
    "    LOAD CSV WITH HEADERS FROM 'file:///airports.csv' AS row\n",
    "    MERGE (a:Airport {id:toInteger(row.Code)})\n",
    "        ON CREATE SET\n",
    "            a.name = row.name,\n",
    "            a.city = row.city_state,      \n",
    "            a.description = row.Description\n",
    "            '''\n",
    "    )\n",
    "\n",
    "print(f'Airports created: {graph.run(\"match (a:Airport) return count(a)\").data()}')\n",
    "\n",
    "print(datetime.now().strftime(\"%H:%M:%S\") + '\\tFinished')"
   ]
  },
  {
   "cell_type": "code",
   "execution_count": 68,
   "metadata": {},
   "outputs": [
    {
     "name": "stdout",
     "output_type": "stream",
     "text": [
      "17:16:01\tStarted\n",
      "Cities created: [{'count(c)': 5918}]\n",
      "17:16:01\tFinished\n"
     ]
    }
   ],
   "source": [
    "\"\"\"\n",
    "Generate city nodes\n",
    "\"\"\"\n",
    "\n",
    "print(datetime.now().strftime(\"%H:%M:%S\") + '\\tStarted')\n",
    "\n",
    "graph.run('''\n",
    "\n",
    "    LOAD CSV WITH HEADERS FROM 'file:///cities.csv' AS row\n",
    "    MERGE (c:City {id:toInteger(row.Code)})\n",
    "        ON CREATE SET\n",
    "            c.name = row.city,\n",
    "            c.state = toString(row.state),\n",
    "            c.description = toString(row.Description)\n",
    "            '''\n",
    "    )\n",
    "\n",
    "print(f'Cities created: {graph.run(\"match (c:City) return count(c)\").data()}')\n",
    "\n",
    "print(datetime.now().strftime(\"%H:%M:%S\") + '\\tFinished')"
   ]
  },
  {
   "cell_type": "code",
   "execution_count": 69,
   "metadata": {},
   "outputs": [
    {
     "name": "stdout",
     "output_type": "stream",
     "text": [
      "17:16:01\tStarted\n",
      "States created: [{'count(s)': 74}]\n",
      "17:16:01\tFinished\n"
     ]
    }
   ],
   "source": [
    "\"\"\"\n",
    "Generate states nodes\n",
    "\"\"\"\n",
    "\n",
    "print(datetime.now().strftime(\"%H:%M:%S\") + '\\tStarted')\n",
    "\n",
    "graph.run('''\n",
    "\n",
    "    LOAD CSV WITH HEADERS FROM 'file:///states.csv' AS row\n",
    "    MERGE (s:State {id:toInteger(row.Code)})\n",
    "        ON CREATE SET\n",
    "            s.name = row.Description\n",
    "            '''\n",
    "    )\n",
    "\n",
    "print(f'States created: {graph.run(\"match (s:State) return count(s)\").data()}')\n",
    "\n",
    "print(datetime.now().strftime(\"%H:%M:%S\") + '\\tFinished')"
   ]
  },
  {
   "cell_type": "markdown",
   "metadata": {},
   "source": [
    "### RELATIONSHIPS"
   ]
  },
  {
   "cell_type": "code",
   "execution_count": 70,
   "metadata": {},
   "outputs": [
    {
     "name": "stdout",
     "output_type": "stream",
     "text": [
      "17:16:01\tStarted\n",
      "Relationships created: [{'count(r)': 626764}]\n",
      "17:16:07\tFinished\n"
     ]
    }
   ],
   "source": [
    "\"\"\"\n",
    "Generate flights - airports relationships\n",
    "F - DEPARTED_FROM_AIRPORT - A\n",
    "F - ARRIVED_AT_AIRPORT - A\n",
    "\"\"\"\n",
    "\n",
    "print(datetime.now().strftime(\"%H:%M:%S\") + '\\tStarted')\n",
    "\n",
    "\n",
    "\n",
    "graph.run('''\n",
    "    MATCH (a:Airport), (f:Flight)\n",
    "    WHERE f.origin_airport = a.id\n",
    "    CREATE (f)-[r:DEPARTED_FROM_AIRPORT]->(a)\n",
    "\n",
    "        ''')\n",
    "        \n",
    "    \n",
    "graph.run('''\n",
    "    MATCH (a:Airport), (f:Flight)\n",
    "    WHERE a.id = f.destination_airport\n",
    "    CREATE (f)-[r:ARRIVED_AT_AIRPORT]->(a)\n",
    "\n",
    "        ''')\n",
    "    \n",
    "print(f'Relationships created: {graph.run(\"match (:Flight)-[r]->(:Airport) return count(r)\").data()}')\n",
    "    \n",
    "print(datetime.now().strftime(\"%H:%M:%S\") + '\\tFinished')"
   ]
  },
  {
   "cell_type": "code",
   "execution_count": 71,
   "metadata": {},
   "outputs": [
    {
     "name": "stdout",
     "output_type": "stream",
     "text": [
      "17:16:07\tStarted\n",
      "Relationships created: [{'count(r)': 626764}]\n",
      "17:16:14\tFinished\n"
     ]
    }
   ],
   "source": [
    "\"\"\"\n",
    "Generate flights - cities relationships\n",
    "F - DEPARTED_FROM_CITY - C\n",
    "F - ARRIVED_AT_CITY - C\n",
    "\"\"\"\n",
    "\n",
    "print(datetime.now().strftime(\"%H:%M:%S\") + '\\tStarted')\n",
    "\n",
    "\n",
    "\n",
    "graph.run('''\n",
    "    MATCH (f:Flight), (c:City)\n",
    "    WHERE f.origin_city = c.id\n",
    "    CREATE (f)-[r:DEPARTED_FROM_CITY]->(c)\n",
    "\n",
    "        ''')\n",
    "        \n",
    "    \n",
    "graph.run('''\n",
    "    MATCH (c:City), (f:Flight)\n",
    "    WHERE c.id = f.destination_city\n",
    "    CREATE (f)-[r:ARRIVED_AT_CITY]->(c)\n",
    "\n",
    "        ''')\n",
    "    \n",
    "print(f'Relationships created: {graph.run(\"match (:Flight)-[r:DEPARTED_FROM_CITY | ARRIVED_AT_CITY]->(:City) return count(r)\").data()}')\n",
    "    \n",
    "print(datetime.now().strftime(\"%H:%M:%S\") + '\\tFinished')"
   ]
  },
  {
   "cell_type": "code",
   "execution_count": 72,
   "metadata": {},
   "outputs": [
    {
     "name": "stdout",
     "output_type": "stream",
     "text": [
      "17:16:14\tStarted\n",
      "Relationships created: [{'count(r)': 626764}]\n",
      "17:16:21\tFinished\n"
     ]
    }
   ],
   "source": [
    "\"\"\"\n",
    "Generate flights - states relationships\n",
    "F - DEPARTED_FROM_STATE - C\n",
    "F - ARRIVED_AT_STATE - C\n",
    "\"\"\"\n",
    "\n",
    "print(datetime.now().strftime(\"%H:%M:%S\") + '\\tStarted')\n",
    "\n",
    "\n",
    "\n",
    "graph.run('''\n",
    "    MATCH (f:Flight), (s:State)\n",
    "    WHERE f.origin_state = s.id\n",
    "    CREATE (f)-[r:DEPARTED_FROM_STATE]->(s)\n",
    "\n",
    "        ''')\n",
    "        \n",
    "    \n",
    "graph.run('''\n",
    "    MATCH (s:State), (f:Flight)\n",
    "    WHERE s.id = f.destination_state\n",
    "    CREATE (f)-[r:ARRIVED_AT_STATE]->(s)\n",
    "\n",
    "        ''')\n",
    "    \n",
    "print(f'Relationships created: {graph.run(\"match (:Flight)-[r:DEPARTED_FROM_STATE | ARRIVED_AT_STATE]->(:State) return count(r)\").data()}')\n",
    "    \n",
    "print(datetime.now().strftime(\"%H:%M:%S\") + '\\tFinished')"
   ]
  },
  {
   "cell_type": "code",
   "execution_count": 73,
   "metadata": {},
   "outputs": [
    {
     "name": "stdout",
     "output_type": "stream",
     "text": [
      "17:16:21\tStarted\n",
      "Relationships created: [{'count(r)': 6330}]\n",
      "17:16:21\tFinished\n"
     ]
    }
   ],
   "source": [
    "\"\"\"\n",
    "Generate airports - cities relationships\n",
    "A - IS_IN - C\n",
    "\"\"\"\n",
    "\n",
    "print(datetime.now().strftime(\"%H:%M:%S\") + '\\tStarted')\n",
    "\n",
    "\n",
    "\n",
    "graph.run('''\n",
    "    MATCH (a:Airport), (c:City)\n",
    "    WHERE a.city = c.description\n",
    "    CREATE (a)-[r:IS_IN]->(c)\n",
    "        ''')\n",
    "        \n",
    "    \n",
    "print(f'Relationships created: {graph.run(\"match (:Airport)-[r]->(:City) return count(r)\").data()}')\n",
    "    \n",
    "print(datetime.now().strftime(\"%H:%M:%S\") + '\\tFinished')"
   ]
  },
  {
   "cell_type": "code",
   "execution_count": 74,
   "metadata": {},
   "outputs": [
    {
     "name": "stdout",
     "output_type": "stream",
     "text": [
      "17:16:21\tStarted\n",
      "Relationships created: [{'count(r)': 8475}]\n",
      "17:16:21\tFinished\n"
     ]
    }
   ],
   "source": [
    "\"\"\"\n",
    "Generate airports - airports relationships\n",
    "A - IS_IN_SAME_CITY - A\n",
    "\"\"\"\n",
    "\n",
    "print(datetime.now().strftime(\"%H:%M:%S\") + '\\tStarted')\n",
    "\n",
    "\n",
    "\n",
    "graph.run('''\n",
    "    MATCH (a:Airport), (a1:Airport)\n",
    "    WHERE a.city = a1.city\n",
    "    CREATE (a)-[r:IS_IN_SAME_CITY]->(a1)\n",
    "        ''')\n",
    "\n",
    "\n",
    "print(f'Relationships created: {graph.run(\"match (:Airport)-[r]->(:Airport) return count(r)\").data()}')\n",
    "\n",
    "print(datetime.now().strftime(\"%H:%M:%S\") + '\\tFinished')"
   ]
  },
  {
   "cell_type": "code",
   "execution_count": 76,
   "metadata": {},
   "outputs": [
    {
     "name": "stdout",
     "output_type": "stream",
     "text": [
      "17:17:08\tStarted\n",
      "Relationships created: [{'count(r)': 1175}]\n",
      "17:17:12\tFinished\n"
     ]
    }
   ],
   "source": [
    "\"\"\"\n",
    "Generate city - city relationships\n",
    "S - HAS_FLIGHT_TO - S\n",
    "\"\"\"\n",
    "\n",
    "print(datetime.now().strftime(\"%H:%M:%S\") + '\\tStarted')\n",
    "\n",
    "\n",
    "\n",
    "graph.run('''\n",
    "    MATCH (s:State), (s1:State), (f:Flight)\n",
    "    WHERE f.origin_state = s.id AND f.destination_state = s1.id\n",
    "    MERGE (s)-[r:HAS_FLIGHT_TO]->(s1)\n",
    "        ON CREATE SET\n",
    "            r.datetime = f.departure_timestamp,\n",
    "            r.distance = f.distance,\n",
    "            r.time = f.scheduled_travel_time\n",
    "        ''')\n",
    "        \n",
    "    \n",
    "print(f'Relationships created: {graph.run(\"match (:State)-[r:HAS_FLIGHT_TO]->(:State) return count(r)\").data()}')\n",
    "    \n",
    "print(datetime.now().strftime(\"%H:%M:%S\") + '\\tFinished')"
   ]
  },
  {
   "cell_type": "code",
   "execution_count": 77,
   "metadata": {},
   "outputs": [
    {
     "name": "stdout",
     "output_type": "stream",
     "text": [
      "17:17:12\tStarted\n",
      "Relationships created: [{'count(r)': 4105}]\n",
      "17:17:16\tFinished\n"
     ]
    }
   ],
   "source": [
    "\"\"\"\n",
    "Generate state - state relationships\n",
    "C - HAS_FLIGHT_TO - C\n",
    "\"\"\"\n",
    "\n",
    "print(datetime.now().strftime(\"%H:%M:%S\") + '\\tStarted')\n",
    "\n",
    "\n",
    "\n",
    "graph.run('''\n",
    "    MATCH (c:City), (c1:City), (f:Flight)\n",
    "    WHERE f.origin_city = c.id AND f.destination_city = c1.id\n",
    "    MERGE (c)-[r:HAS_FLIGHT_TO]->(c1)\n",
    "            ON CREATE SET\n",
    "            r.datetime = f.departure_timestamp\n",
    "        ''')\n",
    "        \n",
    "    \n",
    "print(f'Relationships created: {graph.run(\"match (:City)-[r]->(:City) return count(r)\").data()}')\n",
    "    \n",
    "print(datetime.now().strftime(\"%H:%M:%S\") + '\\tFinished')"
   ]
  },
  {
   "cell_type": "markdown",
   "metadata": {},
   "source": [
    "Obs: sendo os nodes os voos, a relacao seria a estadia. Assim, para calculo de rotas, a distancia seria o numero de dias na cidade de origem. Possivel?\n",
    "\n",
    "1. Decide if the trip is world (country wize), continent (country/state wize), country (city/state wize).\n",
    "2. Select which cities/countries/states to visit based on mandatory requirements\n",
    "3. Select all possible flights between those cities and calculate all possible paths\n",
    "4. Score those paths according to optional/preference requirements\n",
    "\n",
    "\n",
    "## Usecase example:\n",
    "\n",
    "### Client request\n",
    "#### Mandatory \n",
    "Trip in April for 1 week starting and ending in California, min 2 states and max 3, min 2 days/state, only states started with Mi.\n",
    "#### Optional\n",
    "Beach, Casino allowed for <21\n",
    "\n",
    "\n",
    "### Execution\n",
    "1. Select set of cities not in Europe.\n",
    "2. Select set of flights between previous set of cities that have departure_date after July1 and arrival before July31\n",
    "3. Select all possible paths starting and ending in Lisbon, with [min_cities, max_cities] hops with condition -> next hop dep_time is after current hop land_time\n",
    "4. Create a list with each path and a point system (for any city with casino allowed +2 points, for every city raining -5 points, etc..\n",
    "5. Order list and suggest top 5 routes\n",
    "\n"
   ]
  },
  {
   "cell_type": "code",
   "execution_count": 78,
   "metadata": {},
   "outputs": [],
   "source": [
    "#Mandatory constants\n",
    "\n",
    "initial_place = \"California\"\n",
    "final_place = 'California'\n",
    "first_day = dt.datetime(2020, 4,7)\n",
    "last_day = dt.datetime(2020, 4,15)\n",
    "days_of_travel = last_day - first_day\n",
    "min_places = 2\n",
    "max_places = 2\n",
    "min_days_per_state = 3\n",
    "max_days_per_state = 4\n"
   ]
  },
  {
   "cell_type": "code",
   "execution_count": 130,
   "metadata": {},
   "outputs": [
    {
     "data": {
      "text/plain": [
       "['California',\n",
       " 'Maine',\n",
       " 'Maryland',\n",
       " 'Massachusetts',\n",
       " 'Michigan',\n",
       " 'Minnesota',\n",
       " 'Mississippi',\n",
       " 'Missouri',\n",
       " 'Montana',\n",
       " 'Marshall Islands (Fips Pub 55-3)',\n",
       " 'Midway Islands']"
      ]
     },
     "execution_count": 130,
     "metadata": {},
     "output_type": "execute_result"
    }
   ],
   "source": [
    "#Select list of possible states\n",
    "\n",
    "possible_states = graph.run('''\n",
    "    MATCH (s:State)\n",
    "    WHERE s.name STARTS WITH \"M\" OR s.name = $initial_place OR s.name = $final_place\n",
    "    RETURN s.name, s.id\n",
    "        ''',\n",
    "    parameters = {\n",
    "        'final_place': final_place,\n",
    "        'initial_place': initial_place        \n",
    "    }\n",
    "         ).data()\n",
    "\n",
    "x"
   ]
  },
  {
   "cell_type": "code",
   "execution_count": 129,
   "metadata": {},
   "outputs": [
    {
     "ename": "ClientError",
     "evalue": "SyntaxError: Type mismatch: expected Map, Node, Relationship, Point, Duration, Date, Time, LocalTime, LocalDateTime or DateTime but was List<Relationship> (line 6, column 38 (offset: 190))\n\"    RETURN s as state, s1 as state1, r.distance, p\"\n                                      ^",
     "output_type": "error",
     "traceback": [
      "\u001b[0;31m---------------------------------------------------------------------------\u001b[0m",
      "\u001b[0;31mClientError\u001b[0m                               Traceback (most recent call last)",
      "\u001b[0;32m<ipython-input-129-66bae58835cd>\u001b[0m in \u001b[0;36m<module>\u001b[0;34m\u001b[0m\n\u001b[1;32m      2\u001b[0m \u001b[0;34m\u001b[0m\u001b[0m\n\u001b[1;32m      3\u001b[0m \u001b[0;34m\u001b[0m\u001b[0m\n\u001b[0;32m----> 4\u001b[0;31m routes = graph.run('''\n\u001b[0m\u001b[1;32m      5\u001b[0m     \u001b[0mMATCH\u001b[0m \u001b[0mroutes\u001b[0m \u001b[0;34m=\u001b[0m \u001b[0;34m(\u001b[0m\u001b[0ms\u001b[0m\u001b[0;34m:\u001b[0m\u001b[0mState\u001b[0m\u001b[0;34m)\u001b[0m\u001b[0;34m-\u001b[0m\u001b[0;34m[\u001b[0m\u001b[0mr\u001b[0m\u001b[0;34m:\u001b[0m\u001b[0mHAS_FLIGHT_TO\u001b[0m\u001b[0;34m*\u001b[0m\u001b[0;36m2\u001b[0m\u001b[0;34m]\u001b[0m\u001b[0;34m->\u001b[0m\u001b[0;34m(\u001b[0m\u001b[0ms1\u001b[0m\u001b[0;34m:\u001b[0m\u001b[0mState\u001b[0m\u001b[0;34m)\u001b[0m\u001b[0;34m\u001b[0m\u001b[0;34m\u001b[0m\u001b[0m\n\u001b[1;32m      6\u001b[0m     \u001b[0mWHERE\u001b[0m \u001b[0ms\u001b[0m\u001b[0;34m.\u001b[0m\u001b[0mname\u001b[0m \u001b[0;34m=\u001b[0m\u001b[0;31m \u001b[0m\u001b[0;31m$\u001b[0m\u001b[0minitial_place\u001b[0m\u001b[0;34m\u001b[0m\u001b[0;34m\u001b[0m\u001b[0m\n",
      "\u001b[0;32m/Library/Frameworks/Python.framework/Versions/3.8/lib/python3.8/site-packages/py2neo/database.py\u001b[0m in \u001b[0;36mrun\u001b[0;34m(self, cypher, parameters, **kwparameters)\u001b[0m\n\u001b[1;32m    531\u001b[0m         \u001b[0;34m:\u001b[0m\u001b[0;32mreturn\u001b[0m\u001b[0;34m:\u001b[0m\u001b[0;34m\u001b[0m\u001b[0;34m\u001b[0m\u001b[0m\n\u001b[1;32m    532\u001b[0m         \"\"\"\n\u001b[0;32m--> 533\u001b[0;31m         \u001b[0;32mreturn\u001b[0m \u001b[0mself\u001b[0m\u001b[0;34m.\u001b[0m\u001b[0mbegin\u001b[0m\u001b[0;34m(\u001b[0m\u001b[0mautocommit\u001b[0m\u001b[0;34m=\u001b[0m\u001b[0;32mTrue\u001b[0m\u001b[0;34m)\u001b[0m\u001b[0;34m.\u001b[0m\u001b[0mrun\u001b[0m\u001b[0;34m(\u001b[0m\u001b[0mcypher\u001b[0m\u001b[0;34m,\u001b[0m \u001b[0mparameters\u001b[0m\u001b[0;34m,\u001b[0m \u001b[0;34m**\u001b[0m\u001b[0mkwparameters\u001b[0m\u001b[0;34m)\u001b[0m\u001b[0;34m\u001b[0m\u001b[0;34m\u001b[0m\u001b[0m\n\u001b[0m\u001b[1;32m    534\u001b[0m \u001b[0;34m\u001b[0m\u001b[0m\n\u001b[1;32m    535\u001b[0m     \u001b[0;32mdef\u001b[0m \u001b[0mseparate\u001b[0m\u001b[0;34m(\u001b[0m\u001b[0mself\u001b[0m\u001b[0;34m,\u001b[0m \u001b[0msubgraph\u001b[0m\u001b[0;34m)\u001b[0m\u001b[0;34m:\u001b[0m\u001b[0;34m\u001b[0m\u001b[0;34m\u001b[0m\u001b[0m\n",
      "\u001b[0;32m/Library/Frameworks/Python.framework/Versions/3.8/lib/python3.8/site-packages/py2neo/database.py\u001b[0m in \u001b[0;36mrun\u001b[0;34m(self, cypher, parameters, **kwparameters)\u001b[0m\n\u001b[1;32m    821\u001b[0m \u001b[0;34m\u001b[0m\u001b[0m\n\u001b[1;32m    822\u001b[0m         \u001b[0;32mtry\u001b[0m\u001b[0;34m:\u001b[0m\u001b[0;34m\u001b[0m\u001b[0;34m\u001b[0m\u001b[0m\n\u001b[0;32m--> 823\u001b[0;31m             return Cursor(self.connector.run(statement=cypher,\n\u001b[0m\u001b[1;32m    824\u001b[0m                                              \u001b[0mparameters\u001b[0m\u001b[0;34m=\u001b[0m\u001b[0mdict\u001b[0m\u001b[0;34m(\u001b[0m\u001b[0mparameters\u001b[0m \u001b[0;32mor\u001b[0m \u001b[0;34m{\u001b[0m\u001b[0;34m}\u001b[0m\u001b[0;34m,\u001b[0m \u001b[0;34m**\u001b[0m\u001b[0mkwparameters\u001b[0m\u001b[0;34m)\u001b[0m\u001b[0;34m,\u001b[0m\u001b[0;34m\u001b[0m\u001b[0;34m\u001b[0m\u001b[0m\n\u001b[1;32m    825\u001b[0m                                              \u001b[0mtx\u001b[0m\u001b[0;34m=\u001b[0m\u001b[0mself\u001b[0m\u001b[0;34m.\u001b[0m\u001b[0mtransaction\u001b[0m\u001b[0;34m,\u001b[0m\u001b[0;34m\u001b[0m\u001b[0;34m\u001b[0m\u001b[0m\n",
      "\u001b[0;32m/Library/Frameworks/Python.framework/Versions/3.8/lib/python3.8/site-packages/py2neo/internal/connectors.py\u001b[0m in \u001b[0;36mrun\u001b[0;34m(self, statement, parameters, tx, graph, keys, entities)\u001b[0m\n\u001b[1;32m    290\u001b[0m     \u001b[0;32mdef\u001b[0m \u001b[0mrun\u001b[0m\u001b[0;34m(\u001b[0m\u001b[0mself\u001b[0m\u001b[0;34m,\u001b[0m \u001b[0mstatement\u001b[0m\u001b[0;34m,\u001b[0m \u001b[0mparameters\u001b[0m\u001b[0;34m=\u001b[0m\u001b[0;32mNone\u001b[0m\u001b[0;34m,\u001b[0m \u001b[0mtx\u001b[0m\u001b[0;34m=\u001b[0m\u001b[0;32mNone\u001b[0m\u001b[0;34m,\u001b[0m \u001b[0mgraph\u001b[0m\u001b[0;34m=\u001b[0m\u001b[0;32mNone\u001b[0m\u001b[0;34m,\u001b[0m \u001b[0mkeys\u001b[0m\u001b[0;34m=\u001b[0m\u001b[0;32mNone\u001b[0m\u001b[0;34m,\u001b[0m \u001b[0mentities\u001b[0m\u001b[0;34m=\u001b[0m\u001b[0;32mNone\u001b[0m\u001b[0;34m)\u001b[0m\u001b[0;34m:\u001b[0m\u001b[0;34m\u001b[0m\u001b[0;34m\u001b[0m\u001b[0m\n\u001b[1;32m    291\u001b[0m         \u001b[0;32mif\u001b[0m \u001b[0mtx\u001b[0m \u001b[0;32mis\u001b[0m \u001b[0;32mNone\u001b[0m\u001b[0;34m:\u001b[0m\u001b[0;34m\u001b[0m\u001b[0;34m\u001b[0m\u001b[0m\n\u001b[0;32m--> 292\u001b[0;31m             \u001b[0;32mreturn\u001b[0m \u001b[0mself\u001b[0m\u001b[0;34m.\u001b[0m\u001b[0m_run_1\u001b[0m\u001b[0;34m(\u001b[0m\u001b[0mstatement\u001b[0m\u001b[0;34m,\u001b[0m \u001b[0mparameters\u001b[0m\u001b[0;34m,\u001b[0m \u001b[0mgraph\u001b[0m\u001b[0;34m,\u001b[0m \u001b[0mkeys\u001b[0m\u001b[0;34m,\u001b[0m \u001b[0mentities\u001b[0m\u001b[0;34m)\u001b[0m\u001b[0;34m\u001b[0m\u001b[0;34m\u001b[0m\u001b[0m\n\u001b[0m\u001b[1;32m    293\u001b[0m         \u001b[0;32melse\u001b[0m\u001b[0;34m:\u001b[0m\u001b[0;34m\u001b[0m\u001b[0;34m\u001b[0m\u001b[0m\n\u001b[1;32m    294\u001b[0m             \u001b[0;32mreturn\u001b[0m \u001b[0mself\u001b[0m\u001b[0;34m.\u001b[0m\u001b[0m_run_in_tx\u001b[0m\u001b[0;34m(\u001b[0m\u001b[0mstatement\u001b[0m\u001b[0;34m,\u001b[0m \u001b[0mparameters\u001b[0m\u001b[0;34m,\u001b[0m \u001b[0mtx\u001b[0m\u001b[0;34m,\u001b[0m \u001b[0mgraph\u001b[0m\u001b[0;34m,\u001b[0m \u001b[0mkeys\u001b[0m\u001b[0;34m,\u001b[0m \u001b[0mentities\u001b[0m\u001b[0;34m)\u001b[0m\u001b[0;34m\u001b[0m\u001b[0;34m\u001b[0m\u001b[0m\n",
      "\u001b[0;32m/Library/Frameworks/Python.framework/Versions/3.8/lib/python3.8/site-packages/py2neo/internal/connectors.py\u001b[0m in \u001b[0;36m_run_1\u001b[0;34m(self, statement, parameters, graph, keys, entities)\u001b[0m\n\u001b[1;32m    253\u001b[0m                     on_success=result.update_metadata, on_failure=self._fail, on_summary=result.done)\n\u001b[1;32m    254\u001b[0m         \u001b[0mcx\u001b[0m\u001b[0;34m.\u001b[0m\u001b[0msend\u001b[0m\u001b[0;34m(\u001b[0m\u001b[0;34m)\u001b[0m\u001b[0;34m\u001b[0m\u001b[0;34m\u001b[0m\u001b[0m\n\u001b[0;32m--> 255\u001b[0;31m         \u001b[0mcx\u001b[0m\u001b[0;34m.\u001b[0m\u001b[0mfetch\u001b[0m\u001b[0;34m(\u001b[0m\u001b[0;34m)\u001b[0m\u001b[0;34m\u001b[0m\u001b[0;34m\u001b[0m\u001b[0m\n\u001b[0m\u001b[1;32m    256\u001b[0m         \u001b[0;32mreturn\u001b[0m \u001b[0mresult\u001b[0m\u001b[0;34m\u001b[0m\u001b[0;34m\u001b[0m\u001b[0m\n\u001b[1;32m    257\u001b[0m \u001b[0;34m\u001b[0m\u001b[0m\n",
      "\u001b[0;32m/Library/Frameworks/Python.framework/Versions/3.8/lib/python3.8/site-packages/neobolt/direct.py\u001b[0m in \u001b[0;36mfetch\u001b[0;34m(self)\u001b[0m\n\u001b[1;32m    417\u001b[0m     \u001b[0;32mdef\u001b[0m \u001b[0mfetch\u001b[0m\u001b[0;34m(\u001b[0m\u001b[0mself\u001b[0m\u001b[0;34m)\u001b[0m\u001b[0;34m:\u001b[0m\u001b[0;34m\u001b[0m\u001b[0;34m\u001b[0m\u001b[0m\n\u001b[1;32m    418\u001b[0m         \u001b[0;32mtry\u001b[0m\u001b[0;34m:\u001b[0m\u001b[0;34m\u001b[0m\u001b[0;34m\u001b[0m\u001b[0m\n\u001b[0;32m--> 419\u001b[0;31m             \u001b[0;32mreturn\u001b[0m \u001b[0mself\u001b[0m\u001b[0;34m.\u001b[0m\u001b[0m_fetch\u001b[0m\u001b[0;34m(\u001b[0m\u001b[0;34m)\u001b[0m\u001b[0;34m\u001b[0m\u001b[0;34m\u001b[0m\u001b[0m\n\u001b[0m\u001b[1;32m    420\u001b[0m         \u001b[0;32mexcept\u001b[0m \u001b[0mself\u001b[0m\u001b[0;34m.\u001b[0m\u001b[0merror_handler\u001b[0m\u001b[0;34m.\u001b[0m\u001b[0mknown_errors\u001b[0m \u001b[0;32mas\u001b[0m \u001b[0merror\u001b[0m\u001b[0;34m:\u001b[0m\u001b[0;34m\u001b[0m\u001b[0;34m\u001b[0m\u001b[0m\n\u001b[1;32m    421\u001b[0m             \u001b[0mself\u001b[0m\u001b[0;34m.\u001b[0m\u001b[0merror_handler\u001b[0m\u001b[0;34m.\u001b[0m\u001b[0mhandle\u001b[0m\u001b[0;34m(\u001b[0m\u001b[0merror\u001b[0m\u001b[0;34m,\u001b[0m \u001b[0mself\u001b[0m\u001b[0;34m.\u001b[0m\u001b[0munresolved_address\u001b[0m\u001b[0;34m)\u001b[0m\u001b[0;34m\u001b[0m\u001b[0;34m\u001b[0m\u001b[0m\n",
      "\u001b[0;32m/Library/Frameworks/Python.framework/Versions/3.8/lib/python3.8/site-packages/neobolt/direct.py\u001b[0m in \u001b[0;36m_fetch\u001b[0;34m(self)\u001b[0m\n\u001b[1;32m    459\u001b[0m         \u001b[0;32melif\u001b[0m \u001b[0msummary_signature\u001b[0m \u001b[0;34m==\u001b[0m \u001b[0;34mb\"\\x7F\"\u001b[0m\u001b[0;34m:\u001b[0m\u001b[0;34m\u001b[0m\u001b[0;34m\u001b[0m\u001b[0m\n\u001b[1;32m    460\u001b[0m             \u001b[0mlog_debug\u001b[0m\u001b[0;34m(\u001b[0m\u001b[0;34m\"[#%04X]  S: FAILURE %r\"\u001b[0m\u001b[0;34m,\u001b[0m \u001b[0mself\u001b[0m\u001b[0;34m.\u001b[0m\u001b[0mlocal_port\u001b[0m\u001b[0;34m,\u001b[0m \u001b[0msummary_metadata\u001b[0m\u001b[0;34m)\u001b[0m\u001b[0;34m\u001b[0m\u001b[0;34m\u001b[0m\u001b[0m\n\u001b[0;32m--> 461\u001b[0;31m             \u001b[0mresponse\u001b[0m\u001b[0;34m.\u001b[0m\u001b[0mon_failure\u001b[0m\u001b[0;34m(\u001b[0m\u001b[0msummary_metadata\u001b[0m \u001b[0;32mor\u001b[0m \u001b[0;34m{\u001b[0m\u001b[0;34m}\u001b[0m\u001b[0;34m)\u001b[0m\u001b[0;34m\u001b[0m\u001b[0;34m\u001b[0m\u001b[0m\n\u001b[0m\u001b[1;32m    462\u001b[0m         \u001b[0;32melse\u001b[0m\u001b[0;34m:\u001b[0m\u001b[0;34m\u001b[0m\u001b[0;34m\u001b[0m\u001b[0m\n\u001b[1;32m    463\u001b[0m             \u001b[0;32mraise\u001b[0m \u001b[0mProtocolError\u001b[0m\u001b[0;34m(\u001b[0m\u001b[0;34m\"Unexpected response message with signature %02X\"\u001b[0m \u001b[0;34m%\u001b[0m \u001b[0msummary_signature\u001b[0m\u001b[0;34m)\u001b[0m\u001b[0;34m\u001b[0m\u001b[0;34m\u001b[0m\u001b[0m\n",
      "\u001b[0;32m/Library/Frameworks/Python.framework/Versions/3.8/lib/python3.8/site-packages/neobolt/direct.py\u001b[0m in \u001b[0;36mon_failure\u001b[0;34m(self, metadata)\u001b[0m\n\u001b[1;32m    749\u001b[0m         \u001b[0mhandler\u001b[0m \u001b[0;34m=\u001b[0m \u001b[0mself\u001b[0m\u001b[0;34m.\u001b[0m\u001b[0mhandlers\u001b[0m\u001b[0;34m.\u001b[0m\u001b[0mget\u001b[0m\u001b[0;34m(\u001b[0m\u001b[0;34m\"on_failure\"\u001b[0m\u001b[0;34m)\u001b[0m\u001b[0;34m\u001b[0m\u001b[0;34m\u001b[0m\u001b[0m\n\u001b[1;32m    750\u001b[0m         \u001b[0;32mif\u001b[0m \u001b[0mcallable\u001b[0m\u001b[0;34m(\u001b[0m\u001b[0mhandler\u001b[0m\u001b[0;34m)\u001b[0m\u001b[0;34m:\u001b[0m\u001b[0;34m\u001b[0m\u001b[0;34m\u001b[0m\u001b[0m\n\u001b[0;32m--> 751\u001b[0;31m             \u001b[0mhandler\u001b[0m\u001b[0;34m(\u001b[0m\u001b[0mmetadata\u001b[0m\u001b[0;34m)\u001b[0m\u001b[0;34m\u001b[0m\u001b[0;34m\u001b[0m\u001b[0m\n\u001b[0m\u001b[1;32m    752\u001b[0m         \u001b[0mhandler\u001b[0m \u001b[0;34m=\u001b[0m \u001b[0mself\u001b[0m\u001b[0;34m.\u001b[0m\u001b[0mhandlers\u001b[0m\u001b[0;34m.\u001b[0m\u001b[0mget\u001b[0m\u001b[0;34m(\u001b[0m\u001b[0;34m\"on_summary\"\u001b[0m\u001b[0;34m)\u001b[0m\u001b[0;34m\u001b[0m\u001b[0;34m\u001b[0m\u001b[0m\n\u001b[1;32m    753\u001b[0m         \u001b[0;32mif\u001b[0m \u001b[0mcallable\u001b[0m\u001b[0;34m(\u001b[0m\u001b[0mhandler\u001b[0m\u001b[0;34m)\u001b[0m\u001b[0;34m:\u001b[0m\u001b[0;34m\u001b[0m\u001b[0;34m\u001b[0m\u001b[0m\n",
      "\u001b[0;32m/Library/Frameworks/Python.framework/Versions/3.8/lib/python3.8/site-packages/py2neo/internal/connectors.py\u001b[0m in \u001b[0;36m_fail\u001b[0;34m(cls, metadata)\u001b[0m\n\u001b[1;32m    286\u001b[0m     \u001b[0;32mdef\u001b[0m \u001b[0m_fail\u001b[0m\u001b[0;34m(\u001b[0m\u001b[0mcls\u001b[0m\u001b[0;34m,\u001b[0m \u001b[0mmetadata\u001b[0m\u001b[0;34m)\u001b[0m\u001b[0;34m:\u001b[0m\u001b[0;34m\u001b[0m\u001b[0;34m\u001b[0m\u001b[0m\n\u001b[1;32m    287\u001b[0m         \u001b[0;32mfrom\u001b[0m \u001b[0mpy2neo\u001b[0m\u001b[0;34m.\u001b[0m\u001b[0mdatabase\u001b[0m \u001b[0;32mimport\u001b[0m \u001b[0mGraphError\u001b[0m\u001b[0;34m\u001b[0m\u001b[0;34m\u001b[0m\u001b[0m\n\u001b[0;32m--> 288\u001b[0;31m         \u001b[0;32mraise\u001b[0m \u001b[0mGraphError\u001b[0m\u001b[0;34m.\u001b[0m\u001b[0mhydrate\u001b[0m\u001b[0;34m(\u001b[0m\u001b[0mmetadata\u001b[0m\u001b[0;34m)\u001b[0m\u001b[0;34m\u001b[0m\u001b[0;34m\u001b[0m\u001b[0m\n\u001b[0m\u001b[1;32m    289\u001b[0m \u001b[0;34m\u001b[0m\u001b[0m\n\u001b[1;32m    290\u001b[0m     \u001b[0;32mdef\u001b[0m \u001b[0mrun\u001b[0m\u001b[0;34m(\u001b[0m\u001b[0mself\u001b[0m\u001b[0;34m,\u001b[0m \u001b[0mstatement\u001b[0m\u001b[0;34m,\u001b[0m \u001b[0mparameters\u001b[0m\u001b[0;34m=\u001b[0m\u001b[0;32mNone\u001b[0m\u001b[0;34m,\u001b[0m \u001b[0mtx\u001b[0m\u001b[0;34m=\u001b[0m\u001b[0;32mNone\u001b[0m\u001b[0;34m,\u001b[0m \u001b[0mgraph\u001b[0m\u001b[0;34m=\u001b[0m\u001b[0;32mNone\u001b[0m\u001b[0;34m,\u001b[0m \u001b[0mkeys\u001b[0m\u001b[0;34m=\u001b[0m\u001b[0;32mNone\u001b[0m\u001b[0;34m,\u001b[0m \u001b[0mentities\u001b[0m\u001b[0;34m=\u001b[0m\u001b[0;32mNone\u001b[0m\u001b[0;34m)\u001b[0m\u001b[0;34m:\u001b[0m\u001b[0;34m\u001b[0m\u001b[0;34m\u001b[0m\u001b[0m\n",
      "\u001b[0;31mClientError\u001b[0m: SyntaxError: Type mismatch: expected Map, Node, Relationship, Point, Duration, Date, Time, LocalTime, LocalDateTime or DateTime but was List<Relationship> (line 6, column 38 (offset: 190))\n\"    RETURN s as state, s1 as state1, r.distance, p\"\n                                      ^"
     ]
    }
   ],
   "source": [
    "# Calculate different routes between states\n",
    "\n",
    "\n",
    "routes = graph.run('''\n",
    "    MATCH routes = (s:State)-[r:HAS_FLIGHT_TO*2]->(s1:State)\n",
    "    WHERE s.name = $initial_place\n",
    "    AND s1.name = $final_place\n",
    "    WITH routes, s, s1, r\n",
    "    RETURN s as state, s1 as state1, r.distance, p\n",
    "    \n",
    "        ''',\n",
    "    parameters = {\n",
    "        'final_place': final_place,\n",
    "        'initial_place': initial_place        \n",
    "    }\n",
    "         ).data()\n",
    "\n",
    "print(routes)"
   ]
  },
  {
   "cell_type": "code",
   "execution_count": 44,
   "metadata": {},
   "outputs": [
    {
     "data": {
      "text/plain": [
       "(California)-[:HAS_FLIGHT_TO {datetime: datetime('2020-04-01T11:05:00.000000000+00:00')}]->(Washington)-[:HAS_FLIGHT_TO {datetime: datetime('2020-04-01T11:29:00.000000000+00:00')}]->(North Carolina)-[:HAS_FLIGHT_TO {datetime: datetime('2020-04-01T19:59:00.000000000+00:00')}]->(California)"
      ]
     },
     "execution_count": 44,
     "metadata": {},
     "output_type": "execute_result"
    }
   ],
   "source": [
    "test = [list(o.values())[0] for o in routes]\n",
    "\n",
    "    "
   ]
  },
  {
   "cell_type": "code",
   "execution_count": null,
   "metadata": {},
   "outputs": [],
   "source": []
  },
  {
   "cell_type": "code",
   "execution_count": null,
   "metadata": {},
   "outputs": [],
   "source": []
  },
  {
   "cell_type": "code",
   "execution_count": null,
   "metadata": {},
   "outputs": [],
   "source": []
  },
  {
   "cell_type": "code",
   "execution_count": null,
   "metadata": {},
   "outputs": [],
   "source": []
  },
  {
   "cell_type": "code",
   "execution_count": null,
   "metadata": {},
   "outputs": [],
   "source": [
    "#Select all the flights in the places available, in the time delta.\n",
    "\n",
    "flights_list = graph.run('''\n",
    "    MATCH (f:Flight)\n",
    "    WHERE f.departure_timestamp > datetime({year:$dep_year,month:$dep_month, day:$dep_day})\n",
    "    AND f.arrival_timestamp < datetime({year:$arr_year,month:$arr_month, day:$arr_day})\n",
    "    AND f.origin_state IN $states_ids\n",
    "    AND f.destination_state IN $states_ids\n",
    "    RETURN f.id\n",
    "        ''',\n",
    "    parameters = {\n",
    "        'first_day': first_day,\n",
    "        'last_day': last_day,\n",
    "        'states_ids': states_ids,\n",
    "        'dep_year': first_day.year,\n",
    "        'dep_month': first_day.month,\n",
    "        'dep_day': first_day.day,\n",
    "        'arr_year': last_day.year,\n",
    "        'arr_month': last_day.month,\n",
    "        'arr_day': last_day.day  \n",
    "    }\n",
    "         ).data()\n",
    "\n",
    "flights_list_ids = [list(o.values())[0] for o in flights_list]\n",
    "print(f'Flights selected: {len(flights_list_ids)}')"
   ]
  },
  {
   "cell_type": "code",
   "execution_count": null,
   "metadata": {},
   "outputs": [],
   "source": [
    "#     AND f.arrival_timestamp < Datetime({})\n",
    "#     AND f.arrival_timestamp + Duration({days:$max_days_per_state}) > f1.departure_timestamp"
   ]
  },
  {
   "cell_type": "code",
   "execution_count": null,
   "metadata": {},
   "outputs": [],
   "source": [
    "# Create relationships with possible sequence of states\n",
    "\n",
    "print(datetime.now().strftime(\"%H:%M:%S\") + '\\tStarted')\n",
    "\n",
    "graph.run('''\n",
    "    MATCH (f:Flight), (s:State), (s1:State)\n",
    "    WHERE f.id IN $flights_list_ids\n",
    "    AND s.id = f.origin_state\n",
    "    AND s1.id = f.destination_state\n",
    "    AND f.origin_state <> f.destination_state\n",
    "    MERGE (s)-[r:HAS_FLIGHT {date: datetime({year:f.year, month:f.month, day:f.day})}]->(s1)\n",
    "        ON CREATE SET \n",
    "            r.distance = toInteger(f.distance),\n",
    "            r.duration = toInteger(f.scheduled_travel_time)\n",
    "    \n",
    "\n",
    "        ''',\n",
    "    parameters = {\n",
    "        'flights_list_ids': flights_list_ids,\n",
    "        'stated_ids': states_ids    \n",
    "    }\n",
    "         )\n",
    "\n",
    "print(f'Relationships created: {graph.run(\"match (:State)-[r:HAS_FLIGHT]->(:State) return count(r)\").data()}')\n",
    "print(datetime.now().strftime(\"%H:%M:%S\") + '\\tFinished')"
   ]
  },
  {
   "cell_type": "code",
   "execution_count": null,
   "metadata": {},
   "outputs": [],
   "source": []
  },
  {
   "cell_type": "code",
   "execution_count": 62,
   "metadata": {},
   "outputs": [
    {
     "name": "stdout",
     "output_type": "stream",
     "text": [
      "[{'count(n)': 0}]\n"
     ]
    }
   ],
   "source": [
    "# Delete entire graph\n",
    "graph.run('MATCH (n) DETACH DELETE n')\n",
    "print(graph.run(\"match (n) return count(n)\").data())"
   ]
  },
  {
   "cell_type": "code",
   "execution_count": null,
   "metadata": {},
   "outputs": [],
   "source": []
  },
  {
   "cell_type": "code",
   "execution_count": null,
   "metadata": {},
   "outputs": [],
   "source": [
    "print(datetime.now().strftime(\"%H:%M:%S\") + '\\Started')\n",
    "print(graph.run('MATCH (f:Flight)-[r:DEPARTED_FROM_AIRPORT]->(a:Airport)-[r2:IS_IN]->(c:City) WHERE c.name = \"Chicago\" RETURN count(*)').data())\n",
    "print(datetime.now().strftime(\"%H:%M:%S\") + '\\tFinished')"
   ]
  },
  {
   "cell_type": "code",
   "execution_count": null,
   "metadata": {},
   "outputs": [],
   "source": [
    "print(datetime.now().strftime(\"%H:%M:%S\") + '\\Started')\n",
    "print(graph.run('MATCH (f:Flight)-[r:DEPARTED_FROM_CITY]->(c:City) WHERE c.name = \"Chicago\" RETURN count(*)').data())\n",
    "print(datetime.now().strftime(\"%H:%M:%S\") + '\\tFinished')"
   ]
  },
  {
   "cell_type": "code",
   "execution_count": null,
   "metadata": {},
   "outputs": [],
   "source": []
  },
  {
   "cell_type": "code",
   "execution_count": null,
   "metadata": {},
   "outputs": [],
   "source": [
    "call semantics.mapping.addSchema(\"http://schema.org/\", \"Person\", \"Person\")\n",
    "call semantics.mapping.addSchema(\"http://schema.org/Person#\", \"knows\", \"knows\")\n",
    "call semantics.mapping.addSchema(\"http://schema.org/Person#\", \"friendOf\", \"colleagues\")\n",
    "\n",
    "minimum spanning tree -  an algo that 'touches' all the nodes in the shortest way possible\n",
    "strongly connected components - an algo to detect nodes or groups of nodes highly connected"
   ]
  }
 ],
 "metadata": {
  "kernelspec": {
   "display_name": "Python 3",
   "language": "python",
   "name": "python3"
  },
  "language_info": {
   "codemirror_mode": {
    "name": "ipython",
    "version": 3
   },
   "file_extension": ".py",
   "mimetype": "text/x-python",
   "name": "python",
   "nbconvert_exporter": "python",
   "pygments_lexer": "ipython3",
   "version": "3.8.1"
  }
 },
 "nbformat": 4,
 "nbformat_minor": 4
}
